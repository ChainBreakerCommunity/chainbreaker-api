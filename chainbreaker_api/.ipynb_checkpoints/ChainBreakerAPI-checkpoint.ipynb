{
 "cells": [
  {
   "cell_type": "markdown",
   "metadata": {},
   "source": [
    ">\r\n",
    "\r\n",
    "# Welcome to ChainBreaker API\r\n",
    "\r\n",
    "---\r\n",
    "\r\n",
    "ChainBreaker Community consist in a team of academics, data scientists and human trafficking experts focused on collecting data from several online sexual services to combat human trafficking. You can easily access our data using our APIs. Visit our website <a href = \"\">here</a>. If it is the first time you are going to use our API, make sure you understand and agree with our terms and conditions.\r\n",
    "\r\n",
    "In this notebook, **you will learn to**:\r\n",
    "1. Log into your account.\r\n",
    "2. Change your password.\r\n",
    "3. Request data from ChainBreaker API.\r\n",
    "4. Logout.\r\n",
    "5. Recover your password (in case you forgot it)."
   ]
  },
  {
   "cell_type": "code",
   "execution_count": 1,
   "metadata": {},
   "outputs": [],
   "source": [
    "from client import ChainBreakerClient"
   ]
  },
  {
   "cell_type": "code",
   "execution_count": 2,
   "metadata": {},
   "outputs": [],
   "source": [
    "# Endpoint.\r\n",
    "#endpoint = \"https://chainbreaker-ibm-grumpy-gecko-lm.mybluemix.net/\"\r\n",
    "endpoint = \"http://localhost:8000\""
   ]
  },
  {
   "cell_type": "code",
   "execution_count": 3,
   "metadata": {},
   "outputs": [],
   "source": [
    "# Create client.\r\n",
    "client = ChainBreakerClient(endpoint)"
   ]
  },
  {
   "cell_type": "code",
   "execution_count": 4,
   "metadata": {},
   "outputs": [
    {
     "data": {
      "text/plain": [
       "'Endpoint is online'"
      ]
     },
     "execution_count": 4,
     "metadata": {},
     "output_type": "execute_result"
    }
   ],
   "source": [
    "# Check endpoint status (this is important!)\r\n",
    "client.get_status()"
   ]
  },
  {
   "cell_type": "markdown",
   "metadata": {},
   "source": [
    "### 1. Log into your account.\n",
    "---\n",
    "\n",
    "In order to use ChainBreakerAPI you will need an account. Due to the privacy terms of our data it's not possible to offer a public version of our database. If you don't have an account please contact us and we will review your case. Make sure to present yourself and explain us why you want to have access to ChainBreaker data.\n"
   ]
  },
  {
   "cell_type": "markdown",
   "metadata": {},
   "source": [
    "If you have an account, all you need to do is call <code>client.login()</code> function and enter your credentials. "
   ]
  },
  {
   "cell_type": "code",
   "execution_count": 5,
   "metadata": {},
   "outputs": [
    {
     "name": "stdin",
     "output_type": "stream",
     "text": [
      "Email:  jecepedab@unal.edu.co\n",
      "Password:  ········\n"
     ]
    },
    {
     "data": {
      "text/plain": [
       "\"Hi Juan Cepeda! You are now connected to ChainBreaker API. Your current permission level is 'admin'. If you have any questions don't hesitate to contact us!\""
      ]
     },
     "execution_count": 5,
     "metadata": {},
     "output_type": "execute_result"
    }
   ],
   "source": [
    "# Login.\r\n",
    "client.login\"jecepedab@unal.ed\"()"
   ]
  },
  {
   "cell_type": "code",
   "execution_count": 6,
   "metadata": {},
   "outputs": [
    {
     "name": "stdout",
     "output_type": "stream",
     "text": [
      "-- ChainBreaker Account Information --\n",
      "\n",
      "Name:  Juan Cepeda\n",
      "Email:  jecepedab@unal.edu.co\n",
      "Permission:  admin\n"
     ]
    }
   ],
   "source": [
    "client.get_account_info()"
   ]
  },
  {
   "cell_type": "markdown",
   "metadata": {},
   "source": [
    "### 2. Change your password\n",
    "\n",
    "---\n",
    "\n",
    "When you log into your account for the first time, is mandatory that you change your password. All you need to do is to use <code>client.change_password()</code> function."
   ]
  },
  {
   "cell_type": "code",
   "execution_count": 7,
   "metadata": {},
   "outputs": [
    {
     "name": "stdin",
     "output_type": "stream",
     "text": [
      "Old password:  ········\n",
      "New password:  ········\n",
      "Repeat new password:  ········\n"
     ]
    },
    {
     "data": {
      "text/plain": [
       "'Password updated!'"
      ]
     },
     "execution_count": 7,
     "metadata": {},
     "output_type": "execute_result"
    }
   ],
   "source": [
    "client.change_password()"
   ]
  },
  {
   "cell_type": "markdown",
   "metadata": {},
   "source": [
    "### 3. Request data from ChainBreakerAPI.\n",
    "\n",
    "---"
   ]
  },
  {
   "cell_type": "code",
   "execution_count": 8,
   "metadata": {},
   "outputs": [
    {
     "name": "stdout",
     "output_type": "stream",
     "text": [
      "Help on method get_sexual_ads in module client:\n",
      "\n",
      "get_sexual_ads(data_version='1', language='', website='', start_date='0001-01-01', end_date='9999-01-01', shop_and_services=False) method of client.ChainBreakerClient instance\n",
      "    This function returns sexual ads data from ChainBreaker Database.\n",
      "    - data_version: 1. For more information about data versioning, check ChainBreaker website.\n",
      "    - language can be: \"spanish\", \"english\" or \"\" (all).\n",
      "    - website can be: \n",
      "      - \"mileroticos\", \"skokka\" or \"\" (all) (for \"spanish\")\n",
      "      - \"leolist\" or \"\" (all) (for \"english\")\n",
      "    - start_date: String in %Y-%m-%d format. Example: 2021-04-28. Default value: 0001-01-01\n",
      "    - end_date: String in %Y-%m-%d format. Example: 2022-08-30. Default value: 9999-01-01\n",
      "\n"
     ]
    }
   ],
   "source": [
    "# Function description\n",
    "help(client.get_sexual_ads)"
   ]
  },
  {
   "cell_type": "code",
   "execution_count": 11,
   "metadata": {},
   "outputs": [
    {
     "name": "stdout",
     "output_type": "stream",
     "text": [
      "Progress:  25.974\n",
      "Progress:  51.948\n",
      "Progress:  77.922\n",
      "Progress:  100.0\n"
     ]
    },
    {
     "data": {
      "text/html": [
       "<div>\n",
       "<style scoped>\n",
       "    .dataframe tbody tr th:only-of-type {\n",
       "        vertical-align: middle;\n",
       "    }\n",
       "\n",
       "    .dataframe tbody tr th {\n",
       "        vertical-align: top;\n",
       "    }\n",
       "\n",
       "    .dataframe thead th {\n",
       "        text-align: right;\n",
       "    }\n",
       "</style>\n",
       "<table border=\"1\" class=\"dataframe\">\n",
       "  <thead>\n",
       "    <tr style=\"text-align: right;\">\n",
       "      <th></th>\n",
       "      <th>data_version</th>\n",
       "      <th>author</th>\n",
       "      <th>language</th>\n",
       "      <th>link</th>\n",
       "      <th>id_page</th>\n",
       "      <th>title</th>\n",
       "      <th>text</th>\n",
       "      <th>category</th>\n",
       "      <th>first_post_date</th>\n",
       "      <th>extract_date</th>\n",
       "      <th>website</th>\n",
       "      <th>whatsapp</th>\n",
       "      <th>email</th>\n",
       "      <th>verified_ad</th>\n",
       "      <th>prepayment</th>\n",
       "      <th>promoted_ad</th>\n",
       "      <th>external_website</th>\n",
       "      <th>reviews_website</th>\n",
       "      <th>phone</th>\n",
       "    </tr>\n",
       "    <tr>\n",
       "      <th>id_ad</th>\n",
       "      <th></th>\n",
       "      <th></th>\n",
       "      <th></th>\n",
       "      <th></th>\n",
       "      <th></th>\n",
       "      <th></th>\n",
       "      <th></th>\n",
       "      <th></th>\n",
       "      <th></th>\n",
       "      <th></th>\n",
       "      <th></th>\n",
       "      <th></th>\n",
       "      <th></th>\n",
       "      <th></th>\n",
       "      <th></th>\n",
       "      <th></th>\n",
       "      <th></th>\n",
       "      <th></th>\n",
       "      <th></th>\n",
       "    </tr>\n",
       "  </thead>\n",
       "  <tbody>\n",
       "    <tr>\n",
       "      <th>30149</th>\n",
       "      <td>1</td>\n",
       "      <td>chainbreaker</td>\n",
       "      <td>english</td>\n",
       "      <td>https://www.leolist.cc/personals/female-escort...</td>\n",
       "      <td>6424187</td>\n",
       "      <td>New in townyoungplaymate tightw3t gf3 exoticpr...</td>\n",
       "      <td>Hi i am kelly !whitelets party pretty face, gr...</td>\n",
       "      <td>female-escorts</td>\n",
       "      <td>Wed, 06 Jan 2021 00:00:00 GMT</td>\n",
       "      <td>Wed, 06 Jan 2021 00:17:00 GMT</td>\n",
       "      <td>leolist</td>\n",
       "      <td>None</td>\n",
       "      <td>None</td>\n",
       "      <td>True</td>\n",
       "      <td>False</td>\n",
       "      <td>False</td>\n",
       "      <td>None</td>\n",
       "      <td>None</td>\n",
       "      <td>4039738418</td>\n",
       "    </tr>\n",
       "    <tr>\n",
       "      <th>30150</th>\n",
       "      <td>1</td>\n",
       "      <td>chainbreaker</td>\n",
       "      <td>english</td>\n",
       "      <td>https://www.leolist.cc/personals/female-escort...</td>\n",
       "      <td>3576726</td>\n",
       "      <td>Incalgarywednesdaytillsundaymorn</td>\n",
       "      <td>All ethnic backgrounds are welcome and couples...</td>\n",
       "      <td>female-escorts</td>\n",
       "      <td>Wed, 06 Jan 2021 00:00:00 GMT</td>\n",
       "      <td>Wed, 06 Jan 2021 00:17:00 GMT</td>\n",
       "      <td>leolist</td>\n",
       "      <td>None</td>\n",
       "      <td>marketingdonna5@gmail.com</td>\n",
       "      <td>False</td>\n",
       "      <td>False</td>\n",
       "      <td>False</td>\n",
       "      <td>None</td>\n",
       "      <td>None</td>\n",
       "      <td>4037159441</td>\n",
       "    </tr>\n",
       "    <tr>\n",
       "      <th>30151</th>\n",
       "      <td>1</td>\n",
       "      <td>chainbreaker</td>\n",
       "      <td>english</td>\n",
       "      <td>https://www.leolist.cc/personals/female-escort...</td>\n",
       "      <td>6128409</td>\n",
       "      <td>Lethbridgecome play with royalty</td>\n",
       "      <td>Horny sexy mami who wants to play! very friend...</td>\n",
       "      <td>female-escorts</td>\n",
       "      <td>Wed, 06 Jan 2021 00:00:00 GMT</td>\n",
       "      <td>Wed, 06 Jan 2021 00:17:00 GMT</td>\n",
       "      <td>leolist</td>\n",
       "      <td>None</td>\n",
       "      <td>queenb1303@icloud.com</td>\n",
       "      <td>False</td>\n",
       "      <td>False</td>\n",
       "      <td>False</td>\n",
       "      <td>None</td>\n",
       "      <td>None</td>\n",
       "      <td>4038498710</td>\n",
       "    </tr>\n",
       "    <tr>\n",
       "      <th>30152</th>\n",
       "      <td>1</td>\n",
       "      <td>chainbreaker</td>\n",
       "      <td>english</td>\n",
       "      <td>https://www.leolist.cc/personals/female-escort...</td>\n",
       "      <td>6121024</td>\n",
       "      <td>FULLY VAXXED from vancouver! touring 20th and ...</td>\n",
       "      <td>Touring from vancouver on the 20th and 21stple...</td>\n",
       "      <td>female-escorts</td>\n",
       "      <td>Wed, 06 Jan 2021 00:00:00 GMT</td>\n",
       "      <td>Wed, 06 Jan 2021 00:17:00 GMT</td>\n",
       "      <td>leolist</td>\n",
       "      <td>None</td>\n",
       "      <td>experiencecharlee@gmail.com</td>\n",
       "      <td>False</td>\n",
       "      <td>False</td>\n",
       "      <td>False</td>\n",
       "      <td>http://experiencecharlee.com</td>\n",
       "      <td>None</td>\n",
       "      <td>7787690927</td>\n",
       "    </tr>\n",
       "    <tr>\n",
       "      <th>30153</th>\n",
       "      <td>1</td>\n",
       "      <td>chainbreaker</td>\n",
       "      <td>english</td>\n",
       "      <td>https://www.leolist.cc/personals/female-escort...</td>\n",
       "      <td>5622488</td>\n",
       "      <td>Sophie-let me serve you looking for the real d...</td>\n",
       "      <td>Looking for a good timeoutcall in calgary down...</td>\n",
       "      <td>female-escorts</td>\n",
       "      <td>Wed, 06 Jan 2021 00:00:00 GMT</td>\n",
       "      <td>Wed, 06 Jan 2021 00:17:00 GMT</td>\n",
       "      <td>leolist</td>\n",
       "      <td>None</td>\n",
       "      <td>None</td>\n",
       "      <td>False</td>\n",
       "      <td>False</td>\n",
       "      <td>False</td>\n",
       "      <td>None</td>\n",
       "      <td>None</td>\n",
       "      <td>2362371021</td>\n",
       "    </tr>\n",
       "  </tbody>\n",
       "</table>\n",
       "</div>"
      ],
      "text/plain": [
       "       data_version        author language  \\\n",
       "id_ad                                        \n",
       "30149             1  chainbreaker  english   \n",
       "30150             1  chainbreaker  english   \n",
       "30151             1  chainbreaker  english   \n",
       "30152             1  chainbreaker  english   \n",
       "30153             1  chainbreaker  english   \n",
       "\n",
       "                                                    link  id_page  \\\n",
       "id_ad                                                               \n",
       "30149  https://www.leolist.cc/personals/female-escort...  6424187   \n",
       "30150  https://www.leolist.cc/personals/female-escort...  3576726   \n",
       "30151  https://www.leolist.cc/personals/female-escort...  6128409   \n",
       "30152  https://www.leolist.cc/personals/female-escort...  6121024   \n",
       "30153  https://www.leolist.cc/personals/female-escort...  5622488   \n",
       "\n",
       "                                                   title  \\\n",
       "id_ad                                                      \n",
       "30149  New in townyoungplaymate tightw3t gf3 exoticpr...   \n",
       "30150                   Incalgarywednesdaytillsundaymorn   \n",
       "30151                   Lethbridgecome play with royalty   \n",
       "30152  FULLY VAXXED from vancouver! touring 20th and ...   \n",
       "30153  Sophie-let me serve you looking for the real d...   \n",
       "\n",
       "                                                    text        category  \\\n",
       "id_ad                                                                      \n",
       "30149  Hi i am kelly !whitelets party pretty face, gr...  female-escorts   \n",
       "30150  All ethnic backgrounds are welcome and couples...  female-escorts   \n",
       "30151  Horny sexy mami who wants to play! very friend...  female-escorts   \n",
       "30152  Touring from vancouver on the 20th and 21stple...  female-escorts   \n",
       "30153  Looking for a good timeoutcall in calgary down...  female-escorts   \n",
       "\n",
       "                     first_post_date                   extract_date  website  \\\n",
       "id_ad                                                                          \n",
       "30149  Wed, 06 Jan 2021 00:00:00 GMT  Wed, 06 Jan 2021 00:17:00 GMT  leolist   \n",
       "30150  Wed, 06 Jan 2021 00:00:00 GMT  Wed, 06 Jan 2021 00:17:00 GMT  leolist   \n",
       "30151  Wed, 06 Jan 2021 00:00:00 GMT  Wed, 06 Jan 2021 00:17:00 GMT  leolist   \n",
       "30152  Wed, 06 Jan 2021 00:00:00 GMT  Wed, 06 Jan 2021 00:17:00 GMT  leolist   \n",
       "30153  Wed, 06 Jan 2021 00:00:00 GMT  Wed, 06 Jan 2021 00:17:00 GMT  leolist   \n",
       "\n",
       "      whatsapp                        email  verified_ad  prepayment  \\\n",
       "id_ad                                                                  \n",
       "30149     None                         None         True       False   \n",
       "30150     None    marketingdonna5@gmail.com        False       False   \n",
       "30151     None        queenb1303@icloud.com        False       False   \n",
       "30152     None  experiencecharlee@gmail.com        False       False   \n",
       "30153     None                         None        False       False   \n",
       "\n",
       "       promoted_ad              external_website reviews_website       phone  \n",
       "id_ad                                                                         \n",
       "30149        False                          None            None  4039738418  \n",
       "30150        False                          None            None  4037159441  \n",
       "30151        False                          None            None  4038498710  \n",
       "30152        False  http://experiencecharlee.com            None  7787690927  \n",
       "30153        False                          None            None  2362371021  "
      ]
     },
     "execution_count": 11,
     "metadata": {},
     "output_type": "execute_result"
    }
   ],
   "source": [
    "ads = client.get_sexual_ads(language = \"english\", website = \"leolist\",\n",
    "                            start_date = \"2020-04-01\", end_date = \"2022-01-01\")\n",
    "ads.head()"
   ]
  },
  {
   "cell_type": "markdown",
   "metadata": {},
   "source": [
    "#### 3.1 Get ChainBreaker Glossary.\n",
    "\n",
    "---"
   ]
  },
  {
   "cell_type": "code",
   "execution_count": 16,
   "metadata": {},
   "outputs": [
    {
     "name": "stdout",
     "output_type": "stream",
     "text": [
      "Help on method wrapper in module client:\n",
      "\n",
      "wrapper(*args, **kwargs) method of client.ChainBreakerClient instance\n",
      "\n"
     ]
    }
   ],
   "source": [
    "help(client.change_password)"
   ]
  },
  {
   "cell_type": "code",
   "execution_count": 15,
   "metadata": {},
   "outputs": [
    {
     "name": "stdout",
     "output_type": "stream",
     "text": [
      "Help on method wrapper in module client:\n",
      "\n",
      "wrapper(*args, **kwargs) method of client.ChainBreakerClient instance\n",
      "\n"
     ]
    }
   ],
   "source": [
    "# Function description.\r\n",
    "help(client.get_glossary)"
   ]
  },
  {
   "cell_type": "code",
   "execution_count": 20,
   "metadata": {},
   "outputs": [
    {
     "data": {
      "text/html": [
       "<div>\n",
       "<style scoped>\n",
       "    .dataframe tbody tr th:only-of-type {\n",
       "        vertical-align: middle;\n",
       "    }\n",
       "\n",
       "    .dataframe tbody tr th {\n",
       "        vertical-align: top;\n",
       "    }\n",
       "\n",
       "    .dataframe thead th {\n",
       "        text-align: right;\n",
       "    }\n",
       "</style>\n",
       "<table border=\"1\" class=\"dataframe\">\n",
       "  <thead>\n",
       "    <tr style=\"text-align: right;\">\n",
       "      <th></th>\n",
       "      <th>domain</th>\n",
       "      <th>term</th>\n",
       "      <th>definition</th>\n",
       "    </tr>\n",
       "    <tr>\n",
       "      <th>id_term</th>\n",
       "      <th></th>\n",
       "      <th></th>\n",
       "      <th></th>\n",
       "    </tr>\n",
       "  </thead>\n",
       "  <tbody>\n",
       "    <tr>\n",
       "      <th>1</th>\n",
       "      <td>sexual</td>\n",
       "      <td>Agency</td>\n",
       "      <td>A company that manages calls, bookings, and ad...</td>\n",
       "    </tr>\n",
       "    <tr>\n",
       "      <th>2</th>\n",
       "      <td>sexual</td>\n",
       "      <td>Arrangement</td>\n",
       "      <td>In places where prostitution is legal, the dru...</td>\n",
       "    </tr>\n",
       "    <tr>\n",
       "      <th>3</th>\n",
       "      <td>sexual</td>\n",
       "      <td>Automatic</td>\n",
       "      <td>A term denoting the victim’s automatic routine...</td>\n",
       "    </tr>\n",
       "    <tr>\n",
       "      <th>4</th>\n",
       "      <td>sexual</td>\n",
       "      <td>Backpage.com</td>\n",
       "      <td>A classified ad website frequently used by tra...</td>\n",
       "    </tr>\n",
       "    <tr>\n",
       "      <th>5</th>\n",
       "      <td>sexual</td>\n",
       "      <td>Barracuda</td>\n",
       "      <td>Adult Service Provider whose sole purpose is t...</td>\n",
       "    </tr>\n",
       "    <tr>\n",
       "      <th>...</th>\n",
       "      <td>...</td>\n",
       "      <td>...</td>\n",
       "      <td>...</td>\n",
       "    </tr>\n",
       "    <tr>\n",
       "      <th>178</th>\n",
       "      <td>sexual</td>\n",
       "      <td>Wifey</td>\n",
       "      <td>Victims of pimp partners who work together</td>\n",
       "    </tr>\n",
       "    <tr>\n",
       "      <th>179</th>\n",
       "      <td>sexual</td>\n",
       "      <td>Work the red carpet</td>\n",
       "      <td>Being trafficked in hotels when considered too...</td>\n",
       "    </tr>\n",
       "    <tr>\n",
       "      <th>180</th>\n",
       "      <td>sexual</td>\n",
       "      <td>Worker</td>\n",
       "      <td>Term used to objectify adult service provider</td>\n",
       "    </tr>\n",
       "    <tr>\n",
       "      <th>181</th>\n",
       "      <td>sexual</td>\n",
       "      <td>Working</td>\n",
       "      <td>Engaged in active prostitution; The exchange w...</td>\n",
       "    </tr>\n",
       "    <tr>\n",
       "      <th>182</th>\n",
       "      <td>sexual</td>\n",
       "      <td>Working girl</td>\n",
       "      <td>Term used to objectify adult service provider</td>\n",
       "    </tr>\n",
       "  </tbody>\n",
       "</table>\n",
       "<p>182 rows × 3 columns</p>\n",
       "</div>"
      ],
      "text/plain": [
       "         domain                 term  \\\n",
       "id_term                                \n",
       "1        sexual               Agency   \n",
       "2        sexual          Arrangement   \n",
       "3        sexual            Automatic   \n",
       "4        sexual         Backpage.com   \n",
       "5        sexual            Barracuda   \n",
       "...         ...                  ...   \n",
       "178      sexual                Wifey   \n",
       "179      sexual  Work the red carpet   \n",
       "180      sexual               Worker   \n",
       "181      sexual              Working   \n",
       "182      sexual         Working girl   \n",
       "\n",
       "                                                definition  \n",
       "id_term                                                     \n",
       "1        A company that manages calls, bookings, and ad...  \n",
       "2        In places where prostitution is legal, the dru...  \n",
       "3        A term denoting the victim’s automatic routine...  \n",
       "4        A classified ad website frequently used by tra...  \n",
       "5        Adult Service Provider whose sole purpose is t...  \n",
       "...                                                    ...  \n",
       "178            Victims of pimp partners who work together   \n",
       "179      Being trafficked in hotels when considered too...  \n",
       "180          Term used to objectify adult service provider  \n",
       "181      Engaged in active prostitution; The exchange w...  \n",
       "182          Term used to objectify adult service provider  \n",
       "\n",
       "[182 rows x 3 columns]"
      ]
     },
     "execution_count": 20,
     "metadata": {},
     "output_type": "execute_result"
    }
   ],
   "source": [
    "# Get glossary.\r\n",
    "client.get_glossary(domain=\"sexual\")"
   ]
  },
  {
   "cell_type": "markdown",
   "metadata": {},
   "source": [
    "#### 3.2 Get ChainBreaker Keywords.\n",
    "\n",
    "---"
   ]
  },
  {
   "cell_type": "code",
   "execution_count": 11,
   "metadata": {},
   "outputs": [
    {
     "name": "stdout",
     "output_type": "stream",
     "text": [
      "Help on method get_keywords in module client:\n",
      "\n",
      "get_keywords(language='') method of client.ChainBreakerClient instance\n",
      "    This function returns the set of keywords contained in ChainBreaker Database\n",
      "    - language can be: \"english\", \"spanish\", \"portuguese\", \"russian\" or \"\" (all).\n",
      "\n"
     ]
    }
   ],
   "source": [
    "# Function description.\r\n",
    "help(client.get_keywords)"
   ]
  },
  {
   "cell_type": "code",
   "execution_count": 12,
   "metadata": {},
   "outputs": [
    {
     "data": {
      "text/html": [
       "<div>\n",
       "<style scoped>\n",
       "    .dataframe tbody tr th:only-of-type {\n",
       "        vertical-align: middle;\n",
       "    }\n",
       "\n",
       "    .dataframe tbody tr th {\n",
       "        vertical-align: top;\n",
       "    }\n",
       "\n",
       "    .dataframe thead th {\n",
       "        text-align: right;\n",
       "    }\n",
       "</style>\n",
       "<table border=\"1\" class=\"dataframe\">\n",
       "  <thead>\n",
       "    <tr style=\"text-align: right;\">\n",
       "      <th></th>\n",
       "      <th>language</th>\n",
       "      <th>keyword</th>\n",
       "      <th>english_translation</th>\n",
       "      <th>meaning</th>\n",
       "      <th>age_flag</th>\n",
       "      <th>trafficking_flag</th>\n",
       "      <th>movement_flag</th>\n",
       "    </tr>\n",
       "    <tr>\n",
       "      <th>id_keyword</th>\n",
       "      <th></th>\n",
       "      <th></th>\n",
       "      <th></th>\n",
       "      <th></th>\n",
       "      <th></th>\n",
       "      <th></th>\n",
       "      <th></th>\n",
       "    </tr>\n",
       "  </thead>\n",
       "  <tbody>\n",
       "    <tr>\n",
       "      <th>6</th>\n",
       "      <td>english</td>\n",
       "      <td>Soixante-neuf</td>\n",
       "      <td></td>\n",
       "      <td>69</td>\n",
       "      <td>False</td>\n",
       "      <td>None</td>\n",
       "      <td>False</td>\n",
       "    </tr>\n",
       "    <tr>\n",
       "      <th>7</th>\n",
       "      <td>english</td>\n",
       "      <td>$</td>\n",
       "      <td></td>\n",
       "      <td>100</td>\n",
       "      <td>False</td>\n",
       "      <td>None</td>\n",
       "      <td>False</td>\n",
       "    </tr>\n",
       "    <tr>\n",
       "      <th>8</th>\n",
       "      <td>english</td>\n",
       "      <td>$j</td>\n",
       "      <td></td>\n",
       "      <td>100</td>\n",
       "      <td>False</td>\n",
       "      <td>None</td>\n",
       "      <td>False</td>\n",
       "    </tr>\n",
       "    <tr>\n",
       "      <th>9</th>\n",
       "      <td>english</td>\n",
       "      <td>$$</td>\n",
       "      <td></td>\n",
       "      <td>200</td>\n",
       "      <td>False</td>\n",
       "      <td>None</td>\n",
       "      <td>False</td>\n",
       "    </tr>\n",
       "    <tr>\n",
       "      <th>10</th>\n",
       "      <td>english</td>\n",
       "      <td>$$j</td>\n",
       "      <td></td>\n",
       "      <td>200</td>\n",
       "      <td>False</td>\n",
       "      <td>None</td>\n",
       "      <td>False</td>\n",
       "    </tr>\n",
       "    <tr>\n",
       "      <th>...</th>\n",
       "      <td>...</td>\n",
       "      <td>...</td>\n",
       "      <td>...</td>\n",
       "      <td>...</td>\n",
       "      <td>...</td>\n",
       "      <td>...</td>\n",
       "      <td>...</td>\n",
       "    </tr>\n",
       "    <tr>\n",
       "      <th>708</th>\n",
       "      <td>english</td>\n",
       "      <td>Trap House (Trap)</td>\n",
       "      <td></td>\n",
       "      <td>A place victims are kept or stay when not work...</td>\n",
       "      <td>False</td>\n",
       "      <td>None</td>\n",
       "      <td>None</td>\n",
       "    </tr>\n",
       "    <tr>\n",
       "      <th>709</th>\n",
       "      <td>english</td>\n",
       "      <td>Track</td>\n",
       "      <td></td>\n",
       "      <td>Area in which victims work</td>\n",
       "      <td>False</td>\n",
       "      <td>None</td>\n",
       "      <td>None</td>\n",
       "    </tr>\n",
       "    <tr>\n",
       "      <th>710</th>\n",
       "      <td>english</td>\n",
       "      <td>Circuit</td>\n",
       "      <td></td>\n",
       "      <td>All the \"tracks\" in the country. Pimp takes vi...</td>\n",
       "      <td>False</td>\n",
       "      <td>None</td>\n",
       "      <td>True</td>\n",
       "    </tr>\n",
       "    <tr>\n",
       "      <th>711</th>\n",
       "      <td>english</td>\n",
       "      <td>in-call</td>\n",
       "      <td></td>\n",
       "      <td>A location where johns can go for services</td>\n",
       "      <td>False</td>\n",
       "      <td>None</td>\n",
       "      <td>None</td>\n",
       "    </tr>\n",
       "    <tr>\n",
       "      <th>712</th>\n",
       "      <td>english</td>\n",
       "      <td>out-call</td>\n",
       "      <td></td>\n",
       "      <td>A location where a victim will go to meet a john</td>\n",
       "      <td>False</td>\n",
       "      <td>None</td>\n",
       "      <td>None</td>\n",
       "    </tr>\n",
       "  </tbody>\n",
       "</table>\n",
       "<p>707 rows × 7 columns</p>\n",
       "</div>"
      ],
      "text/plain": [
       "           language            keyword english_translation  \\\n",
       "id_keyword                                                   \n",
       "6           english      Soixante-neuf                       \n",
       "7           english                  $                       \n",
       "8           english                 $j                       \n",
       "9           english                 $$                       \n",
       "10          english                $$j                       \n",
       "...             ...                ...                 ...   \n",
       "708         english  Trap House (Trap)                       \n",
       "709         english              Track                       \n",
       "710         english            Circuit                       \n",
       "711         english            in-call                       \n",
       "712         english           out-call                       \n",
       "\n",
       "                                                      meaning age_flag  \\\n",
       "id_keyword                                                               \n",
       "6                                                          69    False   \n",
       "7                                                         100    False   \n",
       "8                                                         100    False   \n",
       "9                                                         200    False   \n",
       "10                                                        200    False   \n",
       "...                                                       ...      ...   \n",
       "708         A place victims are kept or stay when not work...    False   \n",
       "709                                Area in which victims work    False   \n",
       "710         All the \"tracks\" in the country. Pimp takes vi...    False   \n",
       "711                A location where johns can go for services    False   \n",
       "712         A location where a victim will go to meet a john     False   \n",
       "\n",
       "           trafficking_flag movement_flag  \n",
       "id_keyword                                 \n",
       "6                      None         False  \n",
       "7                      None         False  \n",
       "8                      None         False  \n",
       "9                      None         False  \n",
       "10                     None         False  \n",
       "...                     ...           ...  \n",
       "708                    None          None  \n",
       "709                    None          None  \n",
       "710                    None          True  \n",
       "711                    None          None  \n",
       "712                    None          None  \n",
       "\n",
       "[707 rows x 7 columns]"
      ]
     },
     "execution_count": 12,
     "metadata": {},
     "output_type": "execute_result"
    }
   ],
   "source": [
    "client.get_keywords(language=\"english\")"
   ]
  },
  {
   "cell_type": "markdown",
   "metadata": {},
   "source": [
    "### 4. Logout.\n",
    "---\n",
    "\n",
    "Everytime you are done using ChainBreakerAPI, make sure to logout from your account. This is the better way to protect your account from pirates. All you need to do is to use <code>client.logout()</code> function."
   ]
  },
  {
   "cell_type": "code",
   "execution_count": 13,
   "metadata": {},
   "outputs": [
    {
     "name": "stdout",
     "output_type": "stream",
     "text": [
      "Session closed.\n"
     ]
    }
   ],
   "source": [
    "client.logout()"
   ]
  },
  {
   "cell_type": "markdown",
   "metadata": {},
   "source": [
    "### 5. Recover your password\n",
    "\n",
    "---"
   ]
  },
  {
   "cell_type": "code",
   "execution_count": null,
   "metadata": {},
   "outputs": [],
   "source": [
    "client.recover_password()"
   ]
  }
 ],
 "metadata": {
  "kernelspec": {
   "display_name": "Python 3",
   "language": "python",
   "name": "python3"
  },
  "language_info": {
   "codemirror_mode": {
    "name": "ipython",
    "version": 3
   },
   "file_extension": ".py",
   "mimetype": "text/x-python",
   "name": "python",
   "nbconvert_exporter": "python",
   "pygments_lexer": "ipython3",
   "version": "3.7.3"
  }
 },
 "nbformat": 4,
 "nbformat_minor": 4
}
