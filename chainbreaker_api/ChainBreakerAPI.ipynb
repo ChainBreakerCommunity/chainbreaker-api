{
 "cells": [
  {
   "cell_type": "markdown",
   "metadata": {},
   "source": [
    ">\r\n",
    "\r\n",
    "# Welcome to ChainBreaker API\r\n",
    "\r\n",
    "---\r\n",
    "\r\n",
    "ChainBreaker Community consist in a team of academics, data scientists and human trafficking experts focused on collecting data from several online sexual services to combat human trafficking. You can easily access our data using our APIs. Visit our website <a href = \"\">here</a>. If it is the first time you are going to use our API, make sure you understand and agree with our terms and conditions.\r\n",
    "\r\n",
    "In this notebook, **you will learn to**:\r\n",
    "1. Log into your account.\r\n",
    "2. Change your password.\r\n",
    "3. Request data from ChainBreaker API.\r\n",
    "4. Logout.\r\n",
    "5. Recover your password (in case you forgot it)."
   ]
  },
  {
   "cell_type": "code",
   "execution_count": 10,
   "metadata": {},
   "outputs": [],
   "source": [
    "from client import ChainBreakerClient, ChainBreakerScraper, ChainBreakerAdmin\n",
    "import matplotlib.pyplot as plt"
   ]
  },
  {
   "cell_type": "code",
   "execution_count": 11,
   "metadata": {},
   "outputs": [],
   "source": [
    "# Endpoint.\n",
    "#endpoint = \"https://chainbreaker-ibm.us-south.cf.appdomain.cloud\"\n",
    "endpoint = \"http://localhost:8000\""
   ]
  },
  {
   "cell_type": "code",
   "execution_count": 12,
   "metadata": {},
   "outputs": [],
   "source": [
    "# Create client.\n",
    "client = ChainBreakerAdmin(endpoint)"
   ]
  },
  {
   "cell_type": "code",
   "execution_count": 13,
   "metadata": {},
   "outputs": [
    {
     "data": {
      "text/plain": [
       "'Endpoint is online'"
      ]
     },
     "execution_count": 13,
     "metadata": {},
     "output_type": "execute_result"
    }
   ],
   "source": [
    "# Check endpoint status (this is important!)\r\n",
    "client.get_status()"
   ]
  },
  {
   "cell_type": "markdown",
   "metadata": {},
   "source": [
    "### 1. Log into your account.\n",
    "---\n",
    "\n",
    "In order to use ChainBreakerAPI you will need an account. Due to the privacy terms of our data it's not possible to offer a public version of our database. If you don't have an account please contact us and we will review your case. Make sure to present yourself and explain us why you want to have access to ChainBreaker data.\n"
   ]
  },
  {
   "cell_type": "markdown",
   "metadata": {},
   "source": [
    "If you have an account, all you need to do is call <code>client.login()</code> function and enter your credentials. "
   ]
  },
  {
   "cell_type": "code",
   "execution_count": 14,
   "metadata": {},
   "outputs": [
    {
     "data": {
      "text/plain": [
       "\"Hi Juan Cepeda! You are now connected to ChainBreaker API. Your current permission level is 'admin'. If you have any questions don't hesitate to contact us!\""
      ]
     },
     "execution_count": 14,
     "metadata": {},
     "output_type": "execute_result"
    }
   ],
   "source": [
    "# Login\n",
    "client.login(\"jecepedab@unal.edu.co\", \"xxnh12lq\")"
   ]
  },
  {
   "cell_type": "code",
   "execution_count": 15,
   "metadata": {},
   "outputs": [
    {
     "name": "stdout",
     "output_type": "stream",
     "text": [
      "-- ChainBreaker Account Information --\n",
      "\n",
      "Name:  Juan Cepeda\n",
      "Email:  jecepedab@unal.edu.co\n",
      "Permission:  admin\n"
     ]
    }
   ],
   "source": [
    "client.get_account_info()"
   ]
  },
  {
   "cell_type": "code",
   "execution_count": 16,
   "metadata": {},
   "outputs": [
    {
     "name": "stdout",
     "output_type": "stream",
     "text": [
      "Help on method get_account_info in module client:\n",
      "\n",
      "get_account_info() method of client.ChainBreakerAdmin instance\n",
      "    Print account information.\n",
      "\n"
     ]
    }
   ],
   "source": [
    "help(client.get_account_info)"
   ]
  },
  {
   "cell_type": "markdown",
   "metadata": {},
   "source": [
    "### 2. Change your password\n",
    "\n",
    "---\n",
    "\n",
    "When you log into your account for the first time, is mandatory that you change your password. All you need to do is to use <code>client.change_password()</code> function."
   ]
  },
  {
   "cell_type": "code",
   "execution_count": 17,
   "metadata": {},
   "outputs": [
    {
     "name": "stdout",
     "output_type": "stream",
     "text": [
      "Help on method change_password in module client:\n",
      "\n",
      "change_password() method of client.ChainBreakerAdmin instance\n",
      "    This function lets the user to change her/his password.\n",
      "\n"
     ]
    }
   ],
   "source": [
    "help(client.change_password)"
   ]
  },
  {
   "cell_type": "code",
   "execution_count": 18,
   "metadata": {},
   "outputs": [
    {
     "name": "stdin",
     "output_type": "stream",
     "text": [
      "Old password:  ········\n",
      "New password:  ········\n",
      "Repeat new password:  ········\n"
     ]
    },
    {
     "data": {
      "text/plain": [
       "'Password updated!'"
      ]
     },
     "execution_count": 18,
     "metadata": {},
     "output_type": "execute_result"
    }
   ],
   "source": [
    "client.change_password()"
   ]
  },
  {
   "cell_type": "markdown",
   "metadata": {},
   "source": [
    "### 3. Request data from ChainBreakerAPI.\n",
    "\n",
    "---"
   ]
  },
  {
   "cell_type": "code",
   "execution_count": 19,
   "metadata": {},
   "outputs": [
    {
     "name": "stdout",
     "output_type": "stream",
     "text": [
      "Help on method get_sexual_ads in module client:\n",
      "\n",
      "get_sexual_ads(data_version='1', language='', website='', start_date='0001-01-01', end_date='9999-01-01') method of client.ChainBreakerAdmin instance\n",
      "    This function returns sexual ads data from ChainBreaker Database.\n",
      "    - data_version: 1. For more information about data versioning, check ChainBreaker website.\n",
      "    - language can be: \"spanish\", \"english\" or \"\" (all).\n",
      "    - website can be: \n",
      "      - \"mileroticos\", \"skokka\" or \"\" (all) (for \"spanish\")\n",
      "      - \"leolist\" or \"\" (all) (for \"english\")\n",
      "    - start_date: String in %Y-%m-%d format. Example: 2021-04-28. Default value: 0001-01-01\n",
      "    - end_date: String in %Y-%m-%d format. Example: 2022-08-30. Default value: 9999-01-01\n",
      "\n"
     ]
    }
   ],
   "source": [
    "# Function description\n",
    "help(client.get_sexual_ads)"
   ]
  },
  {
   "cell_type": "code",
   "execution_count": 46,
   "metadata": {},
   "outputs": [
    {
     "name": "stdout",
     "output_type": "stream",
     "text": [
      "Progress:  26.069\n",
      "Progress:  52.138\n",
      "Progress:  78.206\n",
      "Progress:  100.0\n"
     ]
    },
    {
     "data": {
      "text/html": [
       "<div>\n",
       "<style scoped>\n",
       "    .dataframe tbody tr th:only-of-type {\n",
       "        vertical-align: middle;\n",
       "    }\n",
       "\n",
       "    .dataframe tbody tr th {\n",
       "        vertical-align: top;\n",
       "    }\n",
       "\n",
       "    .dataframe thead th {\n",
       "        text-align: right;\n",
       "    }\n",
       "</style>\n",
       "<table border=\"1\" class=\"dataframe\">\n",
       "  <thead>\n",
       "    <tr style=\"text-align: right;\">\n",
       "      <th></th>\n",
       "      <th>data_version</th>\n",
       "      <th>author</th>\n",
       "      <th>language</th>\n",
       "      <th>link</th>\n",
       "      <th>id_page</th>\n",
       "      <th>title</th>\n",
       "      <th>text</th>\n",
       "      <th>category</th>\n",
       "      <th>first_post_date</th>\n",
       "      <th>extract_date</th>\n",
       "      <th>...</th>\n",
       "      <th>place</th>\n",
       "      <th>latitude</th>\n",
       "      <th>longitude</th>\n",
       "      <th>zoom</th>\n",
       "      <th>email</th>\n",
       "      <th>verified_ad</th>\n",
       "      <th>prepayment</th>\n",
       "      <th>promoted_ad</th>\n",
       "      <th>external_website</th>\n",
       "      <th>reviews_website</th>\n",
       "    </tr>\n",
       "    <tr>\n",
       "      <th>id_ad</th>\n",
       "      <th></th>\n",
       "      <th></th>\n",
       "      <th></th>\n",
       "      <th></th>\n",
       "      <th></th>\n",
       "      <th></th>\n",
       "      <th></th>\n",
       "      <th></th>\n",
       "      <th></th>\n",
       "      <th></th>\n",
       "      <th></th>\n",
       "      <th></th>\n",
       "      <th></th>\n",
       "      <th></th>\n",
       "      <th></th>\n",
       "      <th></th>\n",
       "      <th></th>\n",
       "      <th></th>\n",
       "      <th></th>\n",
       "      <th></th>\n",
       "      <th></th>\n",
       "    </tr>\n",
       "  </thead>\n",
       "  <tbody>\n",
       "    <tr>\n",
       "      <th>24786</th>\n",
       "      <td>2</td>\n",
       "      <td>chainbreaker</td>\n",
       "      <td>english</td>\n",
       "      <td>https://www.leolist.cc/personals/female-escort...</td>\n",
       "      <td>6424187</td>\n",
       "      <td>New in townyoungplaymate tightw3t gf3 exoticpr...</td>\n",
       "      <td>Hi i am kelly !whitelets party pretty face, gr...</td>\n",
       "      <td>female-escorts</td>\n",
       "      <td>Wed, 06 Jan 2021 00:00:00 GMT</td>\n",
       "      <td>Wed, 06 Jan 2021 00:17:00 GMT</td>\n",
       "      <td>...</td>\n",
       "      <td>None</td>\n",
       "      <td>0.0000</td>\n",
       "      <td>0.000</td>\n",
       "      <td>0</td>\n",
       "      <td>None</td>\n",
       "      <td>True</td>\n",
       "      <td>None</td>\n",
       "      <td>False</td>\n",
       "      <td>None</td>\n",
       "      <td>None</td>\n",
       "    </tr>\n",
       "    <tr>\n",
       "      <th>24787</th>\n",
       "      <td>2</td>\n",
       "      <td>chainbreaker</td>\n",
       "      <td>english</td>\n",
       "      <td>https://www.leolist.cc/personals/female-escort...</td>\n",
       "      <td>3576726</td>\n",
       "      <td>Incalgarywednesdaytillsundaymorn</td>\n",
       "      <td>All ethnic backgrounds are welcome and couples...</td>\n",
       "      <td>female-escorts</td>\n",
       "      <td>Wed, 06 Jan 2021 00:00:00 GMT</td>\n",
       "      <td>Wed, 06 Jan 2021 00:17:00 GMT</td>\n",
       "      <td>...</td>\n",
       "      <td>None</td>\n",
       "      <td>49.6656</td>\n",
       "      <td>-112.780</td>\n",
       "      <td>0</td>\n",
       "      <td>None</td>\n",
       "      <td>False</td>\n",
       "      <td>None</td>\n",
       "      <td>False</td>\n",
       "      <td>None</td>\n",
       "      <td>None</td>\n",
       "    </tr>\n",
       "    <tr>\n",
       "      <th>24788</th>\n",
       "      <td>2</td>\n",
       "      <td>chainbreaker</td>\n",
       "      <td>english</td>\n",
       "      <td>https://www.leolist.cc/personals/female-escort...</td>\n",
       "      <td>6128409</td>\n",
       "      <td>Lethbridgecome play with royalty</td>\n",
       "      <td>Horny sexy mami who wants to play! very friend...</td>\n",
       "      <td>female-escorts</td>\n",
       "      <td>Wed, 06 Jan 2021 00:00:00 GMT</td>\n",
       "      <td>Wed, 06 Jan 2021 00:17:00 GMT</td>\n",
       "      <td>...</td>\n",
       "      <td>None</td>\n",
       "      <td>49.6656</td>\n",
       "      <td>-112.780</td>\n",
       "      <td>0</td>\n",
       "      <td>None</td>\n",
       "      <td>False</td>\n",
       "      <td>None</td>\n",
       "      <td>False</td>\n",
       "      <td>None</td>\n",
       "      <td>None</td>\n",
       "    </tr>\n",
       "    <tr>\n",
       "      <th>24789</th>\n",
       "      <td>2</td>\n",
       "      <td>chainbreaker</td>\n",
       "      <td>english</td>\n",
       "      <td>https://www.leolist.cc/personals/female-escort...</td>\n",
       "      <td>6121024</td>\n",
       "      <td>FULLY VAXXED from vancouver! touring 20th and ...</td>\n",
       "      <td>Touring from vancouver on the 20th and 21stple...</td>\n",
       "      <td>female-escorts</td>\n",
       "      <td>Wed, 06 Jan 2021 00:00:00 GMT</td>\n",
       "      <td>Wed, 06 Jan 2021 00:17:00 GMT</td>\n",
       "      <td>...</td>\n",
       "      <td>None</td>\n",
       "      <td>51.0263</td>\n",
       "      <td>-114.071</td>\n",
       "      <td>0</td>\n",
       "      <td>None</td>\n",
       "      <td>False</td>\n",
       "      <td>None</td>\n",
       "      <td>False</td>\n",
       "      <td>http://experiencecharlee.com</td>\n",
       "      <td>None</td>\n",
       "    </tr>\n",
       "    <tr>\n",
       "      <th>24790</th>\n",
       "      <td>2</td>\n",
       "      <td>chainbreaker</td>\n",
       "      <td>english</td>\n",
       "      <td>https://www.leolist.cc/personals/female-escort...</td>\n",
       "      <td>5622488</td>\n",
       "      <td>Sophie-let me serve you looking for the real d...</td>\n",
       "      <td>Looking for a good timeoutcall in calgary down...</td>\n",
       "      <td>female-escorts</td>\n",
       "      <td>Wed, 06 Jan 2021 00:00:00 GMT</td>\n",
       "      <td>Wed, 06 Jan 2021 00:17:00 GMT</td>\n",
       "      <td>...</td>\n",
       "      <td>None</td>\n",
       "      <td>0.0000</td>\n",
       "      <td>0.000</td>\n",
       "      <td>0</td>\n",
       "      <td>None</td>\n",
       "      <td>False</td>\n",
       "      <td>None</td>\n",
       "      <td>False</td>\n",
       "      <td>None</td>\n",
       "      <td>None</td>\n",
       "    </tr>\n",
       "  </tbody>\n",
       "</table>\n",
       "<p>5 rows × 25 columns</p>\n",
       "</div>"
      ],
      "text/plain": [
       "       data_version        author language  \\\n",
       "id_ad                                        \n",
       "24786             2  chainbreaker  english   \n",
       "24787             2  chainbreaker  english   \n",
       "24788             2  chainbreaker  english   \n",
       "24789             2  chainbreaker  english   \n",
       "24790             2  chainbreaker  english   \n",
       "\n",
       "                                                    link  id_page  \\\n",
       "id_ad                                                               \n",
       "24786  https://www.leolist.cc/personals/female-escort...  6424187   \n",
       "24787  https://www.leolist.cc/personals/female-escort...  3576726   \n",
       "24788  https://www.leolist.cc/personals/female-escort...  6128409   \n",
       "24789  https://www.leolist.cc/personals/female-escort...  6121024   \n",
       "24790  https://www.leolist.cc/personals/female-escort...  5622488   \n",
       "\n",
       "                                                   title  \\\n",
       "id_ad                                                      \n",
       "24786  New in townyoungplaymate tightw3t gf3 exoticpr...   \n",
       "24787                   Incalgarywednesdaytillsundaymorn   \n",
       "24788                   Lethbridgecome play with royalty   \n",
       "24789  FULLY VAXXED from vancouver! touring 20th and ...   \n",
       "24790  Sophie-let me serve you looking for the real d...   \n",
       "\n",
       "                                                    text        category  \\\n",
       "id_ad                                                                      \n",
       "24786  Hi i am kelly !whitelets party pretty face, gr...  female-escorts   \n",
       "24787  All ethnic backgrounds are welcome and couples...  female-escorts   \n",
       "24788  Horny sexy mami who wants to play! very friend...  female-escorts   \n",
       "24789  Touring from vancouver on the 20th and 21stple...  female-escorts   \n",
       "24790  Looking for a good timeoutcall in calgary down...  female-escorts   \n",
       "\n",
       "                     first_post_date                   extract_date  ...  \\\n",
       "id_ad                                                                ...   \n",
       "24786  Wed, 06 Jan 2021 00:00:00 GMT  Wed, 06 Jan 2021 00:17:00 GMT  ...   \n",
       "24787  Wed, 06 Jan 2021 00:00:00 GMT  Wed, 06 Jan 2021 00:17:00 GMT  ...   \n",
       "24788  Wed, 06 Jan 2021 00:00:00 GMT  Wed, 06 Jan 2021 00:17:00 GMT  ...   \n",
       "24789  Wed, 06 Jan 2021 00:00:00 GMT  Wed, 06 Jan 2021 00:17:00 GMT  ...   \n",
       "24790  Wed, 06 Jan 2021 00:00:00 GMT  Wed, 06 Jan 2021 00:17:00 GMT  ...   \n",
       "\n",
       "      place  latitude longitude zoom email verified_ad  prepayment  \\\n",
       "id_ad                                                                \n",
       "24786  None    0.0000     0.000    0  None        True        None   \n",
       "24787  None   49.6656  -112.780    0  None       False        None   \n",
       "24788  None   49.6656  -112.780    0  None       False        None   \n",
       "24789  None   51.0263  -114.071    0  None       False        None   \n",
       "24790  None    0.0000     0.000    0  None       False        None   \n",
       "\n",
       "       promoted_ad              external_website reviews_website  \n",
       "id_ad                                                             \n",
       "24786        False                          None            None  \n",
       "24787        False                          None            None  \n",
       "24788        False                          None            None  \n",
       "24789        False  http://experiencecharlee.com            None  \n",
       "24790        False                          None            None  \n",
       "\n",
       "[5 rows x 25 columns]"
      ]
     },
     "execution_count": 46,
     "metadata": {},
     "output_type": "execute_result"
    }
   ],
   "source": [
    "ads = client.get_sexual_ads(data_version = \"2\", language = \"english\", website = \"leolist\",\n",
    "                            start_date = \"2020-04-01\", end_date = \"2021-03-28\")\n",
    "ads.head()"
   ]
  },
  {
   "cell_type": "markdown",
   "metadata": {},
   "source": [
    "#### 3.1 Get ChainBreaker Glossary.\n",
    "\n",
    "---"
   ]
  },
  {
   "cell_type": "code",
   "execution_count": 48,
   "metadata": {},
   "outputs": [
    {
     "name": "stdout",
     "output_type": "stream",
     "text": [
      "Help on method get_glossary in module client:\n",
      "\n",
      "get_glossary(domain='') method of client.ChainBreakerAdmin instance\n",
      "    This function returns the glossary of terms contained in ChainBreaker Database.\n",
      "    - domain can be: \"sexual\", \"general\" or \"\" (all).\n",
      "    This glossary was shared by Lena Garrett from Stop The Traffik.\n",
      "    For more information please contact her: Lena.Garrett@stopthetraffik.org\n",
      "\n"
     ]
    }
   ],
   "source": [
    "# Function description.\r\n",
    "help(client.get_glossary)"
   ]
  },
  {
   "cell_type": "code",
   "execution_count": 49,
   "metadata": {},
   "outputs": [
    {
     "data": {
      "text/html": [
       "<div>\n",
       "<style scoped>\n",
       "    .dataframe tbody tr th:only-of-type {\n",
       "        vertical-align: middle;\n",
       "    }\n",
       "\n",
       "    .dataframe tbody tr th {\n",
       "        vertical-align: top;\n",
       "    }\n",
       "\n",
       "    .dataframe thead th {\n",
       "        text-align: right;\n",
       "    }\n",
       "</style>\n",
       "<table border=\"1\" class=\"dataframe\">\n",
       "  <thead>\n",
       "    <tr style=\"text-align: right;\">\n",
       "      <th></th>\n",
       "      <th>domain</th>\n",
       "      <th>term</th>\n",
       "      <th>definition</th>\n",
       "    </tr>\n",
       "    <tr>\n",
       "      <th>id_term</th>\n",
       "      <th></th>\n",
       "      <th></th>\n",
       "      <th></th>\n",
       "    </tr>\n",
       "  </thead>\n",
       "  <tbody>\n",
       "    <tr>\n",
       "      <th>1</th>\n",
       "      <td>sexual</td>\n",
       "      <td>Agency</td>\n",
       "      <td>A company that manages calls, bookings, and ad...</td>\n",
       "    </tr>\n",
       "    <tr>\n",
       "      <th>2</th>\n",
       "      <td>sexual</td>\n",
       "      <td>Arrangement</td>\n",
       "      <td>In places where prostitution is legal, the dru...</td>\n",
       "    </tr>\n",
       "    <tr>\n",
       "      <th>3</th>\n",
       "      <td>sexual</td>\n",
       "      <td>Automatic</td>\n",
       "      <td>A term denoting the victim’s automatic routine...</td>\n",
       "    </tr>\n",
       "    <tr>\n",
       "      <th>4</th>\n",
       "      <td>sexual</td>\n",
       "      <td>Backpage.com</td>\n",
       "      <td>A classified ad website frequently used by tra...</td>\n",
       "    </tr>\n",
       "    <tr>\n",
       "      <th>5</th>\n",
       "      <td>sexual</td>\n",
       "      <td>Barracuda</td>\n",
       "      <td>Adult Service Provider whose sole purpose is t...</td>\n",
       "    </tr>\n",
       "  </tbody>\n",
       "</table>\n",
       "</div>"
      ],
      "text/plain": [
       "         domain          term  \\\n",
       "id_term                         \n",
       "1        sexual        Agency   \n",
       "2        sexual   Arrangement   \n",
       "3        sexual     Automatic   \n",
       "4        sexual  Backpage.com   \n",
       "5        sexual     Barracuda   \n",
       "\n",
       "                                                definition  \n",
       "id_term                                                     \n",
       "1        A company that manages calls, bookings, and ad...  \n",
       "2        In places where prostitution is legal, the dru...  \n",
       "3        A term denoting the victim’s automatic routine...  \n",
       "4        A classified ad website frequently used by tra...  \n",
       "5        Adult Service Provider whose sole purpose is t...  "
      ]
     },
     "execution_count": 49,
     "metadata": {},
     "output_type": "execute_result"
    }
   ],
   "source": [
    "# Get glossary.\n",
    "client.get_glossary(domain=\"sexual\").head()"
   ]
  },
  {
   "cell_type": "markdown",
   "metadata": {},
   "source": [
    "#### 3.2 Get ChainBreaker Keywords.\n",
    "\n",
    "---"
   ]
  },
  {
   "cell_type": "code",
   "execution_count": 50,
   "metadata": {},
   "outputs": [
    {
     "name": "stdout",
     "output_type": "stream",
     "text": [
      "Help on method get_keywords in module client:\n",
      "\n",
      "get_keywords(language='') method of client.ChainBreakerAdmin instance\n",
      "    This function returns the set of keywords contained in ChainBreaker Database\n",
      "    - language can be: \"english\", \"spanish\", \"portuguese\", \"russian\" or \"\" (all).\n",
      "    These keywords were shared by Lena Garrett from Stop The Traffik.\n",
      "    For more information please contact her: Lena.Garrett@stopthetraffik.org\n",
      "\n"
     ]
    }
   ],
   "source": [
    "# Function description.\r\n",
    "help(client.get_keywords)"
   ]
  },
  {
   "cell_type": "code",
   "execution_count": 51,
   "metadata": {},
   "outputs": [
    {
     "data": {
      "text/html": [
       "<div>\n",
       "<style scoped>\n",
       "    .dataframe tbody tr th:only-of-type {\n",
       "        vertical-align: middle;\n",
       "    }\n",
       "\n",
       "    .dataframe tbody tr th {\n",
       "        vertical-align: top;\n",
       "    }\n",
       "\n",
       "    .dataframe thead th {\n",
       "        text-align: right;\n",
       "    }\n",
       "</style>\n",
       "<table border=\"1\" class=\"dataframe\">\n",
       "  <thead>\n",
       "    <tr style=\"text-align: right;\">\n",
       "      <th></th>\n",
       "      <th>language</th>\n",
       "      <th>keyword</th>\n",
       "      <th>english_translation</th>\n",
       "      <th>meaning</th>\n",
       "      <th>age_flag</th>\n",
       "      <th>trafficking_flag</th>\n",
       "      <th>movement_flag</th>\n",
       "    </tr>\n",
       "    <tr>\n",
       "      <th>id_keyword</th>\n",
       "      <th></th>\n",
       "      <th></th>\n",
       "      <th></th>\n",
       "      <th></th>\n",
       "      <th></th>\n",
       "      <th></th>\n",
       "      <th></th>\n",
       "    </tr>\n",
       "  </thead>\n",
       "  <tbody>\n",
       "    <tr>\n",
       "      <th>1</th>\n",
       "      <td>english</td>\n",
       "      <td>Soixante-neuf</td>\n",
       "      <td></td>\n",
       "      <td>69</td>\n",
       "      <td>False</td>\n",
       "      <td>None</td>\n",
       "      <td>False</td>\n",
       "    </tr>\n",
       "    <tr>\n",
       "      <th>2</th>\n",
       "      <td>english</td>\n",
       "      <td>$</td>\n",
       "      <td></td>\n",
       "      <td>100</td>\n",
       "      <td>False</td>\n",
       "      <td>None</td>\n",
       "      <td>False</td>\n",
       "    </tr>\n",
       "    <tr>\n",
       "      <th>3</th>\n",
       "      <td>english</td>\n",
       "      <td>$j</td>\n",
       "      <td></td>\n",
       "      <td>100</td>\n",
       "      <td>False</td>\n",
       "      <td>None</td>\n",
       "      <td>False</td>\n",
       "    </tr>\n",
       "    <tr>\n",
       "      <th>4</th>\n",
       "      <td>english</td>\n",
       "      <td>$$</td>\n",
       "      <td></td>\n",
       "      <td>200</td>\n",
       "      <td>False</td>\n",
       "      <td>None</td>\n",
       "      <td>False</td>\n",
       "    </tr>\n",
       "    <tr>\n",
       "      <th>5</th>\n",
       "      <td>english</td>\n",
       "      <td>$$j</td>\n",
       "      <td></td>\n",
       "      <td>200</td>\n",
       "      <td>False</td>\n",
       "      <td>None</td>\n",
       "      <td>False</td>\n",
       "    </tr>\n",
       "  </tbody>\n",
       "</table>\n",
       "</div>"
      ],
      "text/plain": [
       "           language        keyword english_translation meaning age_flag  \\\n",
       "id_keyword                                                                \n",
       "1           english  Soixante-neuf                          69    False   \n",
       "2           english              $                         100    False   \n",
       "3           english             $j                         100    False   \n",
       "4           english             $$                         200    False   \n",
       "5           english            $$j                         200    False   \n",
       "\n",
       "           trafficking_flag movement_flag  \n",
       "id_keyword                                 \n",
       "1                      None         False  \n",
       "2                      None         False  \n",
       "3                      None         False  \n",
       "4                      None         False  \n",
       "5                      None         False  "
      ]
     },
     "execution_count": 51,
     "metadata": {},
     "output_type": "execute_result"
    }
   ],
   "source": [
    "client.get_keywords(language=\"english\").head()"
   ]
  },
  {
   "cell_type": "markdown",
   "metadata": {},
   "source": [
    "### 4. Machine Learning Services\n",
    "---"
   ]
  },
  {
   "cell_type": "code",
   "execution_count": 10,
   "metadata": {},
   "outputs": [
    {
     "data": {
      "image/png": "[encoded data removed]",
      "text/plain": [
       "<Figure size 432x288 with 1 Axes>"
      ]
     },
     "metadata": {
      "needs_background": "light"
     },
     "output_type": "display_data"
    }
   ],
   "source": [
    "# Get faces from images.\n",
    "faces = client.get_image_faces(filepath = \"person.jpg\", padding = 30)\n",
    "plt.imshow(faces[0])\n",
    "plt.show()"
   ]
  },
  {
   "cell_type": "markdown",
   "metadata": {},
   "source": [
    "### 5. Logout.\n",
    "---\n",
    "\n",
    "Everytime you are done using ChainBreakerAPI, make sure to logout from your account. This is the better way to protect your account from pirates. All you need to do is to use <code>client.logout()</code> function."
   ]
  },
  {
   "cell_type": "code",
   "execution_count": 17,
   "metadata": {},
   "outputs": [
    {
     "name": "stdout",
     "output_type": "stream",
     "text": [
      "Session closed.\n"
     ]
    }
   ],
   "source": [
    "client.logout()"
   ]
  },
  {
   "cell_type": "markdown",
   "metadata": {},
   "source": [
    "### 6. Recover your password\n",
    "\n",
    "---"
   ]
  },
  {
   "cell_type": "code",
   "execution_count": null,
   "metadata": {},
   "outputs": [],
   "source": [
    "client.recover_password()"
   ]
  },
  {
   "cell_type": "code",
   "execution_count": 20,
   "metadata": {},
   "outputs": [
    {
     "data": {
      "text/plain": [
       "b'werkzeug - WARNING -  * Debugger is active!\\r\\nwerkzeug - INFO -  * Debugger PIN: 309-749-534\\r\\nwerkzeug - WARNING -  * Running on all addresses.\\r\\n   WARNING: This is a development server. Do not use it in a production deployment.\\r\\nwerkzeug - INFO -  * Running on http://192.168.0.21:8000/ (Press CTRL+C to quit)\\r\\nwerkzeug - INFO - 127.0.0.1 - - [24/Sep/2021 14:34:26] \"GET /api/data/get_app_logs HTTP/1.1\" 200 -\\r\\n'"
      ]
     },
     "execution_count": 20,
     "metadata": {},
     "output_type": "execute_result"
    }
   ],
   "source": [
    "res.content"
   ]
  },
  {
   "cell_type": "code",
   "execution_count": 14,
   "metadata": {},
   "outputs": [],
   "source": [
    "res = client.get_app_logs(\"a\")"
   ]
  },
  {
   "cell_type": "code",
   "execution_count": 59,
   "metadata": {},
   "outputs": [],
   "source": [
    "import requests\n",
    "headers = {\"x-access-token\": client._token}\n",
    "data = {\"phone\": \"3243610375\"}\n",
    "res = requests.post(endpoint + '/api/data/check_phone_in_db', headers = headers, data = data)"
   ]
  },
  {
   "cell_type": "code",
   "execution_count": 60,
   "metadata": {},
   "outputs": [
    {
     "data": {
      "text/plain": [
       "[{'link': 'https://co.mileroticos.com/escorts/dulce-maria-servicios-virtuales-bn-deli-bb-puecarre/20021422/',\n",
       "  'phone': 3243610375,\n",
       "  'title': 'SERVICIOS VIRTUALES BN DELI CON DULCE MARIA PAISA BUENOTA cl'},\n",
       " {'link': 'https://co.mileroticos.com/escorts/dulce-maria-servicios-virtuales-bn-deli-bb-flo/20013270/',\n",
       "  'phone': 3243610375,\n",
       "  'title': 'DULCE MARÍA SERVICIOS VIRTUALES BN DELI BB flo'},\n",
       " {'link': 'https://co.mileroticos.com/escorts/dulce-maria-servicios-virtuales-bn-deli-bb-nei/20028149/',\n",
       "  'phone': 3243610375,\n",
       "  'title': 'DULCE MARÍA SERVICIOS VIRTUALES BN DELI BB nei'},\n",
       " {'link': 'https://co.mileroticos.com/escorts/dulce-maria-paisita-servicios-virtuales-bn-deli-bb/20036439/',\n",
       "  'phone': 3243610375,\n",
       "  'title': 'DULCE MARÍA PAISITA SERVICIOS VIRTUALES BN DELI BB cha'},\n",
       " {'link': 'https://co.mileroticos.com/escorts/dulce-maria-servicios-virtuales-bn-deli-bb-barranca/20027650/',\n",
       "  'phone': 3243610375,\n",
       "  'title': 'DULCE MARÍA SERVICIOS VIRTUALES BN DELI BB barranca'},\n",
       " {'link': 'https://co.mileroticos.com/escorts/dulce-maria-paisita-servicios-virtuales-bn-deli-bb-zipa/20036498/',\n",
       "  'phone': 3243610375,\n",
       "  'title': 'DULCE MARÍA PAISITA SERVICIOS VIRTUALES BN DELI BB zipa'},\n",
       " {'link': 'https://co.mileroticos.com/escorts/dulce-maria-paisita-servicios-virtuales-bn-deli-bb-dui/20037217/',\n",
       "  'phone': 3243610375,\n",
       "  'title': 'DULCE MARÍA PAISITA SERVICIOS VIRTUALES BN DELI BB dui'},\n",
       " {'link': 'https://co.mileroticos.com/escorts/dulce-maria-paisita-servicios-virtuales-bn-deli-bb-girar/20037297/',\n",
       "  'phone': 3243610375,\n",
       "  'title': 'DULCE MARÍA PAISITA SERVICIOS VIRTUALES BN DELI BB girar'},\n",
       " {'link': 'https://co.mileroticos.com/escorts/dulce-maria-rica-paisa-servicios-virtuales-bb-per/20007958/',\n",
       "  'phone': 3243610375,\n",
       "  'title': 'DULCE MARÍA RICA PAISA. SERVICIOS VIRTUALES BB per'},\n",
       " {'link': 'https://co.mileroticos.com/escorts/dulce-maria-servicios-virtuales-bn-deli-bb-rio/20018514/',\n",
       "  'phone': 3243610375,\n",
       "  'title': 'DULCE MARÍA SERVICIOS VIRTUALES BN DELI BB rio'},\n",
       " {'link': 'https://co.mileroticos.com/escorts/dulce-maria-paisita-servicios-virtuales-bn-deli-bb-oca/20060203/',\n",
       "  'phone': 3243610375,\n",
       "  'title': 'DULCE MARÍA PAISITA SERVICIOS VIRTUALES BN DELI BB oca'},\n",
       " {'link': 'https://co.mileroticos.com/escorts/dulce-maria-servicios-virtuales-bn-deli-bb-caji/20029369/',\n",
       "  'phone': 3243610375,\n",
       "  'title': 'DULCE MARÍA SERVICIOS VIRTUALES BN DELIBB fuzaga'},\n",
       " {'link': 'https://co.mileroticos.com/escorts/dulce-maria-servicios-virtuales-bn-deli-bb-carta/20018457/',\n",
       "  'phone': 3243610375,\n",
       "  'title': 'DULCE MARÍA SERVICIOS VIRTUALES BN DELI BB carta'},\n",
       " {'link': 'https://co.mileroticos.com/escorts/dulce-maria-servicios-virtuales-bn-deli-bb-puecarre/20021421/',\n",
       "  'phone': 3243610375,\n",
       "  'title': 'DULCE MARÍA SERVICIOS VIRTUALES BN DELI BB buena'},\n",
       " {'link': 'https://co.mileroticos.com/escorts/dulce-maria-paisita-servicios-virtuales-bn-deli-bb-cordo/20036713/',\n",
       "  'phone': 3243610375,\n",
       "  'title': 'DULCE MARÍA PAISITA SERVICIOS VIRTUALES BN DELI BB sanjo'},\n",
       " {'link': 'https://co.mileroticos.com/escorts/dulce-maria-servicios-virtuales-bn-deli-bb-quib/20018072/',\n",
       "  'phone': 3243610375,\n",
       "  'title': 'DULCE MARÍA SERVICIOS VIRTUALES BN DELI BB quib'},\n",
       " {'link': 'https://co.mileroticos.com/escorts/dulce-maria-servicios-virtuales-bn-deli-bb-vill/20011102/',\n",
       "  'phone': 3243610375,\n",
       "  'title': 'DULCE MARÍA SERVICIOS VIRTUALES BN DELI BB barranqui'},\n",
       " {'link': 'https://co.mileroticos.com/escorts/dulce-maria-servicios-virtuales-bn-deli-bbfaca/20027388/',\n",
       "  'phone': 3243610375,\n",
       "  'title': 'DULCE MARÍA SERVICIOS VIRTUALES BN DELI BBfaca'},\n",
       " {'link': 'https://co.mileroticos.com/escorts/dulce-maria-servicios-virtuales-bn-deli-bb-dosque/20026829/',\n",
       "  'phone': 3243610375,\n",
       "  'title': 'DULCE MARÍA SERVICIOS VIRTUALES BN DELI BB dosque'},\n",
       " {'link': 'https://co.mileroticos.com/escorts/de-regreso-en-tu-cuidad-dulce-maria-paisita-hermosa-y-bienota-ven-a-verme/20096159/',\n",
       "  'phone': 3243610375,\n",
       "  'title': 'SERVICIOS VIRTUALES CON DULCE MARÍA PAISIA FITNESS BN DELI BB Res'}]"
      ]
     },
     "execution_count": 60,
     "metadata": {},
     "output_type": "execute_result"
    }
   ],
   "source": [
    "res = res.json()\n",
    "res[\"ads\"]"
   ]
  },
  {
   "cell_type": "code",
   "execution_count": 18,
   "metadata": {},
   "outputs": [
    {
     "name": "stdout",
     "output_type": "stream",
     "text": [
      "Help on Response in module requests.models object:\n",
      "\n",
      "class Response(builtins.object)\n",
      " |  The :class:`Response <Response>` object, which contains a\n",
      " |  server's response to an HTTP request.\n",
      " |  \n",
      " |  Methods defined here:\n",
      " |  \n",
      " |  __bool__(self)\n",
      " |      Returns True if :attr:`status_code` is less than 400.\n",
      " |      \n",
      " |      This attribute checks if the status code of the response is between\n",
      " |      400 and 600 to see if there was a client error or a server error. If\n",
      " |      the status code, is between 200 and 400, this will return True. This\n",
      " |      is **not** a check to see if the response code is ``200 OK``.\n",
      " |  \n",
      " |  __enter__(self)\n",
      " |  \n",
      " |  __exit__(self, *args)\n",
      " |  \n",
      " |  __getstate__(self)\n",
      " |  \n",
      " |  __init__(self)\n",
      " |      Initialize self.  See help(type(self)) for accurate signature.\n",
      " |  \n",
      " |  __iter__(self)\n",
      " |      Allows you to use a response as an iterator.\n",
      " |  \n",
      " |  __nonzero__(self)\n",
      " |      Returns True if :attr:`status_code` is less than 400.\n",
      " |      \n",
      " |      This attribute checks if the status code of the response is between\n",
      " |      400 and 600 to see if there was a client error or a server error. If\n",
      " |      the status code, is between 200 and 400, this will return True. This\n",
      " |      is **not** a check to see if the response code is ``200 OK``.\n",
      " |  \n",
      " |  __repr__(self)\n",
      " |      Return repr(self).\n",
      " |  \n",
      " |  __setstate__(self, state)\n",
      " |  \n",
      " |  close(self)\n",
      " |      Releases the connection back to the pool. Once this method has been\n",
      " |      called the underlying ``raw`` object must not be accessed again.\n",
      " |      \n",
      " |      *Note: Should not normally need to be called explicitly.*\n",
      " |  \n",
      " |  iter_content(self, chunk_size=1, decode_unicode=False)\n",
      " |      Iterates over the response data.  When stream=True is set on the\n",
      " |      request, this avoids reading the content at once into memory for\n",
      " |      large responses.  The chunk size is the number of bytes it should\n",
      " |      read into memory.  This is not necessarily the length of each item\n",
      " |      returned as decoding can take place.\n",
      " |      \n",
      " |      chunk_size must be of type int or None. A value of None will\n",
      " |      function differently depending on the value of `stream`.\n",
      " |      stream=True will read data as it arrives in whatever size the\n",
      " |      chunks are received. If stream=False, data is returned as\n",
      " |      a single chunk.\n",
      " |      \n",
      " |      If decode_unicode is True, content will be decoded using the best\n",
      " |      available encoding based on the response.\n",
      " |  \n",
      " |  iter_lines(self, chunk_size=512, decode_unicode=False, delimiter=None)\n",
      " |      Iterates over the response data, one line at a time.  When\n",
      " |      stream=True is set on the request, this avoids reading the\n",
      " |      content at once into memory for large responses.\n",
      " |      \n",
      " |      .. note:: This method is not reentrant safe.\n",
      " |  \n",
      " |  json(self, **kwargs)\n",
      " |      Returns the json-encoded content of a response, if any.\n",
      " |      \n",
      " |      :param \\*\\*kwargs: Optional arguments that ``json.loads`` takes.\n",
      " |      :raises ValueError: If the response body does not contain valid json.\n",
      " |  \n",
      " |  raise_for_status(self)\n",
      " |      Raises stored :class:`HTTPError`, if one occurred.\n",
      " |  \n",
      " |  ----------------------------------------------------------------------\n",
      " |  Data descriptors defined here:\n",
      " |  \n",
      " |  __dict__\n",
      " |      dictionary for instance variables (if defined)\n",
      " |  \n",
      " |  __weakref__\n",
      " |      list of weak references to the object (if defined)\n",
      " |  \n",
      " |  apparent_encoding\n",
      " |      The apparent encoding, provided by the chardet library.\n",
      " |  \n",
      " |  content\n",
      " |      Content of the response, in bytes.\n",
      " |  \n",
      " |  is_permanent_redirect\n",
      " |      True if this Response one of the permanent versions of redirect.\n",
      " |  \n",
      " |  is_redirect\n",
      " |      True if this Response is a well-formed HTTP redirect that could have\n",
      " |      been processed automatically (by :meth:`Session.resolve_redirects`).\n",
      " |  \n",
      " |  links\n",
      " |      Returns the parsed header links of the response, if any.\n",
      " |  \n",
      " |  next\n",
      " |      Returns a PreparedRequest for the next request in a redirect chain, if there is one.\n",
      " |  \n",
      " |  ok\n",
      " |      Returns True if :attr:`status_code` is less than 400, False if not.\n",
      " |      \n",
      " |      This attribute checks if the status code of the response is between\n",
      " |      400 and 600 to see if there was a client error or a server error. If\n",
      " |      the status code is between 200 and 400, this will return True. This\n",
      " |      is **not** a check to see if the response code is ``200 OK``.\n",
      " |  \n",
      " |  text\n",
      " |      Content of the response, in unicode.\n",
      " |      \n",
      " |      If Response.encoding is None, encoding will be guessed using\n",
      " |      ``chardet``.\n",
      " |      \n",
      " |      The encoding of the response content is determined based solely on HTTP\n",
      " |      headers, following RFC 2616 to the letter. If you can take advantage of\n",
      " |      non-HTTP knowledge to make a better guess at the encoding, you should\n",
      " |      set ``r.encoding`` appropriately before accessing this property.\n",
      " |  \n",
      " |  ----------------------------------------------------------------------\n",
      " |  Data and other attributes defined here:\n",
      " |  \n",
      " |  __attrs__ = ['_content', 'status_code', 'headers', 'url', 'history', '...\n",
      "\n"
     ]
    }
   ],
   "source": [
    "help(res)"
   ]
  },
  {
   "cell_type": "code",
   "execution_count": 26,
   "metadata": {},
   "outputs": [
    {
     "data": {
      "text/plain": [
       "'2022-01-01 00:00:00'"
      ]
     },
     "execution_count": 26,
     "metadata": {},
     "output_type": "execute_result"
    }
   ],
   "source": [
    "\"2022-01-01 00:00:00\""
   ]
  },
  {
   "cell_type": "code",
   "execution_count": null,
   "metadata": {},
   "outputs": [],
   "source": []
  }
 ],
 "metadata": {
  "kernelspec": {
   "display_name": "Python 3",
   "language": "python",
   "name": "python3"
  },
  "language_info": {
   "codemirror_mode": {
    "name": "ipython",
    "version": 3
   },
   "file_extension": ".py",
   "mimetype": "text/x-python",
   "name": "python",
   "nbconvert_exporter": "python",
   "pygments_lexer": "ipython3",
   "version": "3.7.3"
  }
 },
 "nbformat": 4,
 "nbformat_minor": 4
}
