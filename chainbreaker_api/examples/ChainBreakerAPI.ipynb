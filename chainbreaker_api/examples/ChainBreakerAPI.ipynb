{
 "cells": [
  {
   "cell_type": "markdown",
   "source": [
    "\r\n",
    "<img src = \"https://chainbreaker-ibm-grumpy-gecko-lm.mybluemix.net/assets/img/hero-img.png\" width = \"400px\">\r\n",
    "\r\n",
    "# Welcome to ChainBreaker API\r\n",
    "\r\n",
    "---\r\n",
    "\r\n",
    "ChainBreaker Community consist in a team of academics, data scientists and human trafficking experts focused on collecting data from several online sexual services to combat human trafficking. You can easily access our data using our APIs. Visit our website <a href = \"\">here</a>. If it is the first time you are going to use our API, make sure you understand and agree with our terms and conditions.\r\n",
    "\r\n",
    "In this notebook, **you will learn to**:\r\n",
    "1. Log into your account.\r\n",
    "2. Change your password.\r\n",
    "3. Request data from ChainBreaker API.\r\n",
    "4. Logout.\r\n",
    "5. Recover your password (in case you forgot it)."
   ],
   "metadata": {}
  },
  {
   "cell_type": "code",
   "execution_count": null,
   "source": [
    "from client import ChainBreakerClient"
   ],
   "outputs": [],
   "metadata": {}
  },
  {
   "cell_type": "code",
   "execution_count": null,
   "source": [
    "# Endpoint.\r\n",
    "#endpoint = \"https://chainbreaker-ibm-grumpy-gecko-lm.mybluemix.net/\"\r\n",
    "endpoint = \"http://localhost:8000\""
   ],
   "outputs": [],
   "metadata": {}
  },
  {
   "cell_type": "code",
   "execution_count": null,
   "source": [
    "# Create client.\r\n",
    "client = ChainBreakerClient(endpoint)"
   ],
   "outputs": [],
   "metadata": {}
  },
  {
   "cell_type": "code",
   "execution_count": null,
   "source": [
    "# Check endpoint status (this is important!)\r\n",
    "client.get_status()"
   ],
   "outputs": [],
   "metadata": {}
  },
  {
   "cell_type": "markdown",
   "source": [
    "### 1. Log into your account.\n",
    "---\n",
    "\n",
    "In order to use ChainBreakerAPI you will need an account. Due to the privacy terms of our data it's not possible to offer a public version of our database. If you don't have an account please contact us and we will review your case. Make sure to present yourself and explain us why you want to have access to ChainBreaker data.\n"
   ],
   "metadata": {}
  },
  {
   "cell_type": "markdown",
   "source": [
    "If you have an account, all you need to do is call <code>client.login()</code> function and enter your credentials. "
   ],
   "metadata": {}
  },
  {
   "cell_type": "code",
   "execution_count": null,
   "source": [
    "# Login.\r\n",
    "client.login()"
   ],
   "outputs": [],
   "metadata": {}
  },
  {
   "cell_type": "code",
   "execution_count": null,
   "source": [
    "client.get_account_info()"
   ],
   "outputs": [],
   "metadata": {}
  },
  {
   "cell_type": "markdown",
   "source": [
    "### 2. Change your password\n",
    "\n",
    "---\n",
    "\n",
    "When you log into your account for the first time, is mandatory that you change your password. All you need to do is to use <code>client.change_password()</code> function."
   ],
   "metadata": {}
  },
  {
   "cell_type": "code",
   "execution_count": null,
   "source": [
    "client.change_password()"
   ],
   "outputs": [],
   "metadata": {}
  },
  {
   "cell_type": "markdown",
   "source": [
    "### 3. Request data from ChainBreakerAPI.\n",
    "\n",
    "---"
   ],
   "metadata": {}
  },
  {
   "cell_type": "code",
   "execution_count": null,
   "source": [
    "# Function description.\r\n",
    "help(client.get_ads)"
   ],
   "outputs": [],
   "metadata": {}
  },
  {
   "cell_type": "code",
   "execution_count": null,
   "source": [
    "client.get_ads(language = \"spanish\", website = \"skokka\")"
   ],
   "outputs": [],
   "metadata": {}
  },
  {
   "cell_type": "markdown",
   "source": [
    "#### 3.1 Get ChainBreaker Glossary.\n",
    "\n",
    "---"
   ],
   "metadata": {}
  },
  {
   "cell_type": "code",
   "execution_count": null,
   "source": [
    "# Function description.\r\n",
    "help(client.get_glossary)"
   ],
   "outputs": [],
   "metadata": {}
  },
  {
   "cell_type": "code",
   "execution_count": null,
   "source": [
    "# Get glossary.\r\n",
    "client.get_glossary(domain=\"sexual\")"
   ],
   "outputs": [],
   "metadata": {}
  },
  {
   "cell_type": "markdown",
   "source": [
    "#### 3.2 Get ChainBreaker Keywords.\n",
    "\n",
    "---"
   ],
   "metadata": {}
  },
  {
   "cell_type": "code",
   "execution_count": null,
   "source": [
    "# Function description.\r\n",
    "help(client.get_keywords)"
   ],
   "outputs": [],
   "metadata": {}
  },
  {
   "cell_type": "code",
   "execution_count": null,
   "source": [
    "client.get_keywords(language=\"english\")"
   ],
   "outputs": [],
   "metadata": {}
  },
  {
   "cell_type": "markdown",
   "source": [
    "### 4. Logout.\n",
    "---\n",
    "\n",
    "Everytime you are done using ChainBreakerAPI, make sure to logout from your account. This is the better way to protect your account from pirates. All you need to do is to use <code>client.logout()</code> function."
   ],
   "metadata": {}
  },
  {
   "cell_type": "code",
   "execution_count": null,
   "source": [
    "client.logout()"
   ],
   "outputs": [],
   "metadata": {}
  },
  {
   "cell_type": "markdown",
   "source": [
    "### 5. Recover your password\n",
    "\n",
    "---"
   ],
   "metadata": {}
  },
  {
   "cell_type": "code",
   "execution_count": null,
   "source": [
    "client.recover_password()"
   ],
   "outputs": [],
   "metadata": {}
  }
 ],
 "metadata": {
  "kernelspec": {
   "display_name": "Python 3",
   "language": "python",
   "name": "python3"
  },
  "language_info": {
   "codemirror_mode": {
    "name": "ipython",
    "version": 3
   },
   "file_extension": ".py",
   "mimetype": "text/x-python",
   "name": "python",
   "nbconvert_exporter": "python",
   "pygments_lexer": "ipython3",
   "version": "3.7.3"
  }
 },
 "nbformat": 4,
 "nbformat_minor": 4
}